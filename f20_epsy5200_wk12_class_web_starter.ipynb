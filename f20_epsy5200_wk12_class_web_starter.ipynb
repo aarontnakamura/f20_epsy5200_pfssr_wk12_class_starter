{
 "cells": [
  {
   "cell_type": "markdown",
   "metadata": {},
   "source": [
    "## EPSY 5200: Programming Fundamentals for Social Science Researchers\n",
    "## Fall 2020 Week 12\n",
    "### Web Scraping with Python"
   ]
  },
  {
   "cell_type": "code",
   "execution_count": 1,
   "metadata": {},
   "outputs": [],
   "source": [
    "from requests import get\n",
    "from requests.exceptions import RequestException\n",
    "from contextlib import closing\n",
    "from bs4 import BeautifulSoup\n",
    "# this just loads all fxns and attaches their names to our enviro\n",
    "# in other words, no need to use the package name"
   ]
  },
  {
   "cell_type": "code",
   "execution_count": 2,
   "metadata": {},
   "outputs": [],
   "source": [
    "# some functions adapted from RealPython demo:\n",
    "# https://realpython.com/python-web-scraping-practical-introduction/\n",
    "\n",
    "def simple_get(url):\n",
    "    \"\"\"\n",
    "    Attempts to get the content at `url` by making an HTTP GET request.\n",
    "    If the content-type of response is some kind of HTML/XML, return the\n",
    "    text content, otherwise return None.\n",
    "    \"\"\"\n",
    "    try: # make an attempt to do this, but if there's an ERROR, jump to the \"except\"\n",
    "        with closing(get(url, stream=True)) as resp:\n",
    "            if is_good_response(resp): # calls function defined below\n",
    "                return resp.content\n",
    "            else:\n",
    "                return None\n",
    "    except RequestException as e: # only runs if error occurs above\n",
    "        log_error('Error during requests to {0} : {1}'.format(url, str(e)))\n",
    "        return None\n",
    "\n",
    "\n",
    "def is_good_response(resp):\n",
    "    \"\"\"\n",
    "    Returns True if the response seems to be HTML, False otherwise.\n",
    "    \"\"\"\n",
    "    content_type = resp.headers['Content-Type'].lower()\n",
    "    return (resp.status_code == 200 # remember that 200 means all OK!\n",
    "            and content_type is not None # makes sure there's *something* in content\n",
    "            and content_type.find('html') > -1)\n",
    "\n",
    "\n",
    "def log_error(e): # just in case error above, prints it\n",
    "    \"\"\"\n",
    "    It is always a good idea to log errors. \n",
    "    This function just prints them, but you can\n",
    "    make it do anything.\n",
    "    \"\"\"\n",
    "    print(e)"
   ]
  },
  {
   "cell_type": "code",
   "execution_count": 3,
   "metadata": {},
   "outputs": [],
   "source": [
    "raw = simple_get(\"http://blogs.edweek.org/edweek/inside-school-research/\")"
   ]
  }
 ],
 "metadata": {
  "kernelspec": {
   "display_name": "Python 3",
   "language": "python",
   "name": "python3"
  },
  "language_info": {
   "codemirror_mode": {
    "name": "ipython",
    "version": 3
   },
   "file_extension": ".py",
   "mimetype": "text/x-python",
   "name": "python",
   "nbconvert_exporter": "python",
   "pygments_lexer": "ipython3",
   "version": "3.7.4"
  }
 },
 "nbformat": 4,
 "nbformat_minor": 2
}
