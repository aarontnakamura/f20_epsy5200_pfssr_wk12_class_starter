{
 "cells": [
  {
   "cell_type": "markdown",
   "metadata": {},
   "source": [
    "## EPSY 5200: Programming Fundamentals for Social Science Researchers\n",
    "## Fall 2020 Week 12\n",
    "### Web Scraping with Python"
   ]
  },
  {
   "cell_type": "markdown",
   "metadata": {},
   "source": [
    "In the latter half of class, we'll use a Python package called `twint` to scrape data from Twitter (the Twitter API process is laborious, so we'll use this alternative).  However, Anaconda doesn't have `twint` built in or in the Anaconda Cloud, so we need to go through the process to install it.\n",
    "\n",
    "This would be one typical process for doing that (kept here for posterity), but we're going to use the method in the next cell:\n",
    "\n",
    "Go to https://github.com/twintproject/twint\n",
    "\n",
    "In Terminal/PowerShell, run:\n",
    "`conda info --envs`\n",
    "\n",
    "This returns the directory where `conda`'s default (`base`) environment is stored (note: `conda` is the `pip` alternative used by Anaconda for Python package management).\n",
    "\n",
    "Let's create a new environment:\n",
    "\n",
    "`conda create --name epsy`\n",
    "\n",
    "And activate it (switch environments):\n",
    "\n",
    "`conda activate epsy`\n",
    "\n",
    "(Note in PowerShell, you may need to run `cmd` to get the command prompt before activate can work.)\n",
    "\n",
    "Install git:\n",
    "\n",
    "`conda install git`\n",
    "\n",
    "Install pip:\n",
    "\n",
    "`conda install pip`\n",
    "\n",
    "Now we can link with `git` and `pip` to the GitHub for the `twint` project.  On the `twint` page, get the URL you'd use for cloning (https://github.com/twintproject/twint.git) and replace the `https` protocol with `git` like so:\n",
    "\n",
    "`pip install git+git://github.com/twintproject/twint.git`\n",
    "\n",
    "\n",
    "Now if we go to Anaconda Navigator > Environments > epsy, we can search for `twint` and see it's there.  We also have another package we'll use, `nest_asyncio`, which is necessary when using a notebook like Jupyter."
   ]
  },
  {
   "cell_type": "code",
   "execution_count": null,
   "metadata": {},
   "outputs": [],
   "source": [
    "# Unfortunately, twint is not always reliable and development is a bit buggy\n",
    "# This happens with open-source programming, as developers are often volunteers\n",
    "# In this case, it took me some time to realize that the most recent version has a couple bugs\n",
    "\n",
    "# Here is some code I found in reading the GitHub Issues discussion (run the uncommented line)\n",
    "# Note that this is a *terminal* command, not Python.\n",
    "# In Anaconda, we can run the code in terminal instead of Python by using \"!\" :\n",
    "\n",
    "#!pip3 install --user --upgrade git+https://github.com/twintproject/twint.git@origin/master#egg=twint\n",
    "#!pip3 install --user --upgrade git+https://github.com/yunusemrecatalcam/twint.git@twitter_legacy2\n",
    "!pip install --upgrade git+https://github.com/yunusemrecatalcam/twint.git@twitter_legacy2"
   ]
  },
  {
   "cell_type": "code",
   "execution_count": null,
   "metadata": {},
   "outputs": [],
   "source": [
    "# run these in case you don't have them installed:\n",
    "!pip install nest_asyncio\n",
    "!pip install aiohttp_socks"
   ]
  },
  {
   "cell_type": "code",
   "execution_count": null,
   "metadata": {
    "scrolled": true
   },
   "outputs": [],
   "source": [
    "# and let's make sure aiohttp_socks is up to date (upgraded):\n",
    "!pip install --user --upgrade aiohttp_socks"
   ]
  },
  {
   "cell_type": "code",
   "execution_count": null,
   "metadata": {
    "scrolled": true
   },
   "outputs": [],
   "source": [
    "# now we can import packages we need\n",
    "import twint\n",
    "import pandas as pd\n",
    "import nest_asyncio # allows for twint to play w an interactive notebook like jupyter\n",
    "nest_asyncio.apply() # activate asynchronous input/output handling"
   ]
  }
 ],
 "metadata": {
  "kernelspec": {
   "display_name": "Python 3",
   "language": "python",
   "name": "python3"
  },
  "language_info": {
   "codemirror_mode": {
    "name": "ipython",
    "version": 3
   },
   "file_extension": ".py",
   "mimetype": "text/x-python",
   "name": "python",
   "nbconvert_exporter": "python",
   "pygments_lexer": "ipython3",
   "version": "3.7.4"
  }
 },
 "nbformat": 4,
 "nbformat_minor": 2
}
